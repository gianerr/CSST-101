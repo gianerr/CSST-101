{
  "nbformat": 4,
  "nbformat_minor": 0,
  "metadata": {
    "colab": {
      "provenance": [],
      "authorship_tag": "ABX9TyOo/dXae0W81qtjUPf7SbMS",
      "include_colab_link": true
    },
    "kernelspec": {
      "name": "python3",
      "display_name": "Python 3"
    },
    "language_info": {
      "name": "python"
    }
  },
  "cells": [
    {
      "cell_type": "markdown",
      "metadata": {
        "id": "view-in-github",
        "colab_type": "text"
      },
      "source": [
        "<a href=\"https://colab.research.google.com/github/gianerr/CSST-101/blob/main/3B_PLATA_MP2.ipynb\" target=\"_parent\"><img src=\"https://colab.research.google.com/assets/colab-badge.svg\" alt=\"Open In Colab\"/></a>"
      ]
    },
    {
      "cell_type": "markdown",
      "source": [
        "# 1. Propositional Logic Operations\n",
        "This section defines four functions that implement basic logical operations: AND, OR, NOT, and IMPLIES. Each function takes boolean inputs and returns a boolean output based on the logic rules, allowing us to perform logical reasoning in our programs."
      ],
      "metadata": {
        "id": "5jFFaevqOlKR"
      }
    },
    {
      "cell_type": "code",
      "execution_count": 1,
      "metadata": {
        "id": "LAYDGbBqOhVp"
      },
      "outputs": [],
      "source": [
        "def logical_and(a: bool, b: bool) -> bool:\n",
        "    \"\"\"Logical conjunction (AND)\"\"\"\n",
        "    return a and b\n",
        "\n",
        "def logical_or(a: bool, b: bool) -> bool:\n",
        "    \"\"\"Logical disjunction (OR)\"\"\"\n",
        "    return a or b\n",
        "\n",
        "def logical_not(a: bool) -> bool:\n",
        "    \"\"\"Logical negation (NOT)\"\"\"\n",
        "    return not a\n",
        "\n",
        "def logical_implies(a: bool, b: bool) -> bool:\n",
        "    \"\"\"Logical implication (IMPLIES)\"\"\"\n",
        "    return not a or b"
      ]
    },
    {
      "cell_type": "markdown",
      "source": [
        "# 2. Evaluate Logical Statements\n",
        "The evaluate_statement function takes a string representation of a logical statement and a dictionary of variable truth values. It replaces the variables in the statement with their corresponding truth values and evaluates the expression using Python's eval() function, returning the result as a boolean."
      ],
      "metadata": {
        "id": "JhyPdZ5yOsM_"
      }
    },
    {
      "cell_type": "code",
      "source": [
        "def evaluate_statement(statement: str, values: dict) -> bool:\n",
        "    \"\"\"Evaluate a logical statement with given truth values.\"\"\"\n",
        "    for var, val in values.items():\n",
        "        statement = statement.replace(var, str(val))\n",
        "    return eval(statement)"
      ],
      "metadata": {
        "id": "mWboc4KoOuaI"
      },
      "execution_count": 2,
      "outputs": []
    },
    {
      "cell_type": "code",
      "source": [
        "truth_values = {\n",
        "    'P': True,\n",
        "    'Q': False\n",
        "}\n",
        "\n",
        "result = evaluate_statement('P and Q', truth_values)\n",
        "print(result)"
      ],
      "metadata": {
        "colab": {
          "base_uri": "https://localhost:8080/"
        },
        "id": "AGJWplvCO-g1",
        "outputId": "fcab7c50-7cf1-4977-f249-d012e9ab95f5"
      },
      "execution_count": 3,
      "outputs": [
        {
          "output_type": "stream",
          "name": "stdout",
          "text": [
            "False\n"
          ]
        }
      ]
    },
    {
      "cell_type": "markdown",
      "source": [
        "# 3. Extend to Predicate Logic\n",
        "There are two implemented functions, for_all and exists, to handle universal and existential quantifiers, respectively. These functions check whether a given predicate holds true for all or at least one element in a specified domain, enabling more complex logical reasoning beyond simple propositions."
      ],
      "metadata": {
        "id": "mWqdbAEAPEln"
      }
    },
    {
      "cell_type": "code",
      "source": [
        "def for_all(predicate: callable, domain: list) -> bool:\n",
        "    \"\"\"Universal quantifier (FOR ALL)\"\"\"\n",
        "    return all(predicate(x) for x in domain)\n",
        "\n",
        "def exists(predicate: callable, domain: list) -> bool:\n",
        "    \"\"\"Existential quantifier (EXISTS)\"\"\"\n",
        "    return any(predicate(x) for x in domain)"
      ],
      "metadata": {
        "id": "iBHUuRigPFrH"
      },
      "execution_count": 4,
      "outputs": []
    },
    {
      "cell_type": "code",
      "source": [
        "def is_even(x):\n",
        "    return x % 2 == 0\n",
        "domain = range(1, 11)\n",
        "all_even = for_all(is_even, domain)\n",
        "print(all_even)\n",
        "some_even = exists(is_even, domain)\n",
        "print(some_even)"
      ],
      "metadata": {
        "colab": {
          "base_uri": "https://localhost:8080/"
        },
        "id": "WV3kCUXCPJrB",
        "outputId": "6a4943da-418f-45e7-89f5-163a8e073ba9"
      },
      "execution_count": 5,
      "outputs": [
        {
          "output_type": "stream",
          "name": "stdout",
          "text": [
            "False\n",
            "True\n"
          ]
        }
      ]
    },
    {
      "cell_type": "markdown",
      "source": [
        "# 4. AI Agent Development\n",
        "The SimpleAIAgent class represents an AI agent with a state defined by whether it is day, whether it has food, and whether it is thirsty. The decide_action method uses logical operations to determine the agent's next action based on its current state, demonstrating how logic can guide decision-making in AI systems."
      ],
      "metadata": {
        "id": "H-qgL4h2PQRO"
      }
    },
    {
      "cell_type": "code",
      "source": [
        "class SimpleAIAgent:\n",
        "    def __init__(self):\n",
        "        self.state = {\n",
        "            'is_day': True,\n",
        "            'has_food': False,\n",
        "            'is_thirsty': True\n",
        "        }\n",
        "\n",
        "    def decide_action(self):\n",
        "        \"\"\"Decide an action based on the current state.\"\"\"\n",
        "        if logical_and(self.state['is_day'], logical_not(self.state['has_food'])):\n",
        "            return \"Search for food\"\n",
        "        elif logical_and(self.state['is_day'], self.state['is_thirsty']):\n",
        "            return \"Find water\"\n",
        "        else:\n",
        "            return \"Rest\"\n",
        "agent = SimpleAIAgent()\n",
        "\n",
        "action = agent.decide_action()\n",
        "print(action)"
      ],
      "metadata": {
        "colab": {
          "base_uri": "https://localhost:8080/"
        },
        "id": "GG6TO3q6PRdi",
        "outputId": "6eed611b-d2b0-4d1d-b7cc-afedaabbe6b8"
      },
      "execution_count": 6,
      "outputs": [
        {
          "output_type": "stream",
          "name": "stdout",
          "text": [
            "Search for food\n"
          ]
        }
      ]
    }
  ]
}