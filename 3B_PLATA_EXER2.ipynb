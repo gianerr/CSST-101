{
  "nbformat": 4,
  "nbformat_minor": 0,
  "metadata": {
    "colab": {
      "provenance": [],
      "collapsed_sections": [
        "OKsoHGCCx-V5",
        "jpp5m1y4UlsA",
        "ZZeG2T9myNzo",
        "6reRthApXqdt",
        "pIms0gVubuJx",
        "ib-zYzJmc1Rd",
        "fOh9z7TldEhO",
        "rbAPPU7df7CU"
      ],
      "authorship_tag": "ABX9TyNBL+UHzmbnCBZ40xiav5ct",
      "include_colab_link": true
    },
    "kernelspec": {
      "name": "python3",
      "display_name": "Python 3"
    },
    "language_info": {
      "name": "python"
    }
  },
  "cells": [
    {
      "cell_type": "markdown",
      "metadata": {
        "id": "view-in-github",
        "colab_type": "text"
      },
      "source": [
        "<a href=\"https://colab.research.google.com/github/gianerr/CSST-101/blob/main/3B_PLATA_EXER2.ipynb\" target=\"_parent\"><img src=\"https://colab.research.google.com/assets/colab-badge.svg\" alt=\"Open In Colab\"/></a>"
      ]
    },
    {
      "cell_type": "markdown",
      "source": [
        "# Exercise 1: Introduction to Probability Theory in AI"
      ],
      "metadata": {
        "id": "OKsoHGCCx-V5"
      }
    },
    {
      "cell_type": "code",
      "execution_count": 4,
      "metadata": {
        "id": "UuxJ59tjvu67",
        "colab": {
          "base_uri": "https://localhost:8080/"
        },
        "outputId": "adffcd88-2df4-4181-a2d6-791e05bad1d9"
      },
      "outputs": [
        {
          "output_type": "stream",
          "name": "stdout",
          "text": [
            "Joint Probability: 0.12\n",
            "Marginal Probability: 0.58\n",
            "Conditional Probability: 0.6\n"
          ]
        }
      ],
      "source": [
        "def joint_probability(p_A, p_B):\n",
        "  return p_A * p_B\n",
        "\n",
        "def marginal_probability(p_A, p_B):\n",
        "  return p_A + p_B - joint_probability(p_A, p_B)\n",
        "\n",
        "def conditional_probability(p_B_given_A, p_A, p_B):\n",
        "  return (p_B_given_A * p_A) / p_B\n",
        "\n",
        "p_A = 0.3\n",
        "p_B = 0.4\n",
        "p_B_given_A = 0.8\n",
        "\n",
        "print(f\"Joint Probability: {joint_probability(p_A, p_B)}\")\n",
        "print(f\"Marginal Probability: {marginal_probability(p_A, p_B)}\")\n",
        "print(f\"Conditional Probability: {conditional_probability(p_B_given_A, p_A, p_B)}\")"
      ]
    },
    {
      "cell_type": "markdown",
      "source": [
        "Assessment Task: Basic Probability Calculations"
      ],
      "metadata": {
        "id": "tqRGF76ZxZLA"
      }
    },
    {
      "cell_type": "code",
      "source": [
        "def joint_probability(p_A, p_B):\n",
        "    return p_A * p_B\n",
        "def marginal_probability(p_A):\n",
        "    return p_A\n",
        "def conditional_probability(p_A, p_B):\n",
        "    return p_A\n",
        "\n",
        "p_A = 0.3\n",
        "p_B = 0.4\n",
        "\n",
        "result = joint_probability(p_A, p_B)\n",
        "print(f\"The joint probability of A and B is: {result}\")"
      ],
      "metadata": {
        "colab": {
          "base_uri": "https://localhost:8080/"
        },
        "id": "zyjaeeeRxuFg",
        "outputId": "2f5caef6-77dc-4034-c8ed-f72237a22a8b"
      },
      "execution_count": 2,
      "outputs": [
        {
          "output_type": "stream",
          "name": "stdout",
          "text": [
            "The joint probability of A and B is: 0.12\n"
          ]
        }
      ]
    },
    {
      "cell_type": "markdown",
      "source": [
        "# Exercise 2: Decision-Making Under Uncertainty"
      ],
      "metadata": {
        "id": "ZZeG2T9myNzo"
      }
    },
    {
      "cell_type": "code",
      "source": [
        "import numpy as np\n",
        "\n",
        "def simulate_decision(num_simulations, p_success, reward_success, reward_failure):\n",
        "  outcomes = []\n",
        "  for _ in range(num_simulations):\n",
        "    if np.random.rand() < p_success:\n",
        "      outcomes.append(reward_success)\n",
        "    else:\n",
        "      outcomes.append(reward_failure)\n",
        "  return np.mean(outcomes)\n",
        "\n",
        "p_success = 0.7\n",
        "reward_success = 1000\n",
        "reward_failure = -500\n",
        "\n",
        "average_outcome = simulate_decision(1000, p_success, reward_success, reward_failure)\n",
        "print(f\"Expected value of decision: {average_outcome}\")"
      ],
      "metadata": {
        "colab": {
          "base_uri": "https://localhost:8080/"
        },
        "id": "NhTFuvkSyTDO",
        "outputId": "6610def7-0ef1-46d4-a90e-79ee29518f05"
      },
      "execution_count": 6,
      "outputs": [
        {
          "output_type": "stream",
          "name": "stdout",
          "text": [
            "Expected value of decision: 565.0\n"
          ]
        }
      ]
    },
    {
      "cell_type": "markdown",
      "source": [
        "Assessment Task: Decision-Making Under Uncertainty"
      ],
      "metadata": {
        "id": "NRaZrKbfyj7T"
      }
    },
    {
      "cell_type": "code",
      "source": [
        "import random\n",
        "\n",
        "def simulate_investment_decision(prob_success, reward, penalty, iterations):\n",
        "    total_return = 0\n",
        "\n",
        "    for _ in range(iterations):\n",
        "        outcome = random.random()\n",
        "\n",
        "        if outcome < prob_success:\n",
        "            total_return += reward\n",
        "        else:\n",
        "            total_return += penalty\n",
        "\n",
        "    average_return = total_return / iterations\n",
        "    return average_return\n",
        "\n",
        "prob_success = 0.7\n",
        "reward = 1000\n",
        "penalty = -500\n",
        "iterations = 1000\n",
        "\n",
        "average_return = simulate_investment_decision(prob_success, reward, penalty, iterations)\n",
        "print(f\"The average return after {iterations} iterations is: ${average_return:.2f}\")"
      ],
      "metadata": {
        "colab": {
          "base_uri": "https://localhost:8080/"
        },
        "id": "C3srfGLOypPn",
        "outputId": "391b134c-0395-4ef3-f946-41637ce8ca2a"
      },
      "execution_count": 7,
      "outputs": [
        {
          "output_type": "stream",
          "name": "stdout",
          "text": [
            "The average return after 1000 iterations is: $548.50\n"
          ]
        }
      ]
    },
    {
      "cell_type": "markdown",
      "source": [
        "# Exercise 3: Applying Probability Theory in AI for Diagnosis"
      ],
      "metadata": {
        "id": "ElE9cuif0g3M"
      }
    },
    {
      "cell_type": "code",
      "source": [
        "def bayesian_inference(prior, likelihood_positive_given_disease, likelihood_positive):\n",
        "  posterior = (likelihood_positive_given_disease * prior) / likelihood_positive\n",
        "  return posterior\n",
        "\n",
        "prior_disease = 0.01\n",
        "likelihood_positive_given_disease = 0.9\n",
        "likelihood_positive = 0.05\n",
        "\n",
        "posterior_disease = bayesian_inference(prior_disease, likelihood_positive_given_disease, likelihood_positive)\n",
        "print(f\"Posterior probability of disease given positive test: {posterior_disease}\")"
      ],
      "metadata": {
        "colab": {
          "base_uri": "https://localhost:8080/"
        },
        "id": "N-4pfCyvZg7X",
        "outputId": "482862d8-7618-4d4e-a337-683c08678c37"
      },
      "execution_count": 8,
      "outputs": [
        {
          "output_type": "stream",
          "name": "stdout",
          "text": [
            "Posterior probability of disease given positive test: 0.18000000000000002\n"
          ]
        }
      ]
    },
    {
      "cell_type": "markdown",
      "source": [
        "Assessment Task: Bayesian Inference"
      ],
      "metadata": {
        "id": "dN70v7HF0rJy"
      }
    },
    {
      "cell_type": "code",
      "source": [
        "def bayesian_inference(prior, likelihood_positive_given_disease, likelihood_positive):\n",
        "    posterior = (likelihood_positive_given_disease * prior) / likelihood_positive\n",
        "    return posterior\n",
        "\n",
        "prior_disease = 0.01\n",
        "likelihood_positive_given_disease = 0.9\n",
        "likelihood_positive_given_no_disease = 0.05\n",
        "\n",
        "probability_no_disease = 1 - prior_disease\n",
        "likelihood_positive = (likelihood_positive_given_disease * prior_disease) + \\\n",
        "                      (likelihood_positive_given_no_disease * probability_no_disease)\n",
        "\n",
        "posterior_disease = bayesian_inference(prior_disease, likelihood_positive_given_disease, likelihood_positive)\n",
        "\n",
        "print(f\"Posterior probability of having the disease given a positive test result: {posterior_disease:.4f}\")"
      ],
      "metadata": {
        "colab": {
          "base_uri": "https://localhost:8080/"
        },
        "id": "5SfZ5Zyl0vfq",
        "outputId": "82b7fe27-e057-4dc6-b3d4-18b063063c6c"
      },
      "execution_count": 9,
      "outputs": [
        {
          "output_type": "stream",
          "name": "stdout",
          "text": [
            "Posterior probability of having the disease given a positive test result: 0.1538\n"
          ]
        }
      ]
    },
    {
      "cell_type": "markdown",
      "source": [
        "# Exercise 4: Probability Distribution in AI"
      ],
      "metadata": {
        "id": "fOh9z7TldEhO"
      }
    },
    {
      "cell_type": "code",
      "source": [
        "import numpy as np\n",
        "import matplotlib.pyplot as plt\n",
        "\n",
        "n_trials = 1000\n",
        "p_head = 0.5\n",
        "binomial_distribution = np.random.binomial(n=1, p=p_head, size=n_trials)\n",
        "\n",
        "plt.hist(binomial_distribution, bins=2)\n",
        "plt.title('Binomial Distribution (Coin Flips)')\n",
        "plt.show()"
      ],
      "metadata": {
        "colab": {
          "base_uri": "https://localhost:8080/",
          "height": 452
        },
        "id": "rAOGbEyG2vFn",
        "outputId": "2cba889f-cb42-40f9-f248-dc3e378cbe29"
      },
      "execution_count": 10,
      "outputs": [
        {
          "output_type": "display_data",
          "data": {
            "text/plain": [
              "<Figure size 640x480 with 1 Axes>"
            ],
            "image/png": "[encoded data removed]"
          },
          "metadata": {}
        }
      ]
    },
    {
      "cell_type": "markdown",
      "source": [
        "Assessment Task: Real-World Scenario"
      ],
      "metadata": {
        "id": "f25hNl3o3VKU"
      }
    },
    {
      "cell_type": "code",
      "source": [
        "def predict_rain(humidity, cloud_cover):\n",
        "    p_rain_given_humidity = 0.8\n",
        "    p_rain_given_cloud_cover = 0.7\n",
        "\n",
        "    p_rain = p_rain_given_humidity * p_rain_given_cloud_cover\n",
        "\n",
        "    return p_rain\n",
        "\n",
        "humidity = float(input(\"Enter humidity level (0-1): \"))\n",
        "cloud_cover = float(input(\"Enter cloud cover level (0-1): \"))\n",
        "\n",
        "probability_of_rain = predict_rain(humidity, cloud_cover)\n",
        "print(f\"The probability of rain is: {probability_of_rain:.2f}\")"
      ],
      "metadata": {
        "id": "EM7l6LCPeNuj",
        "colab": {
          "base_uri": "https://localhost:8080/"
        },
        "outputId": "24cadf42-57a4-4062-a147-1c761d5c1adb"
      },
      "execution_count": 11,
      "outputs": [
        {
          "output_type": "stream",
          "name": "stdout",
          "text": [
            "Enter humidity level (0-1): 1\n",
            "Enter cloud cover level (0-1): 1\n",
            "The probability of rain is: 0.56\n"
          ]
        }
      ]
    },
    {
      "cell_type": "markdown",
      "source": [
        "# Exercise 5: Real-World Application of Probability in AI"
      ],
      "metadata": {
        "id": "k0ikINUQ3lrv"
      }
    },
    {
      "cell_type": "code",
      "source": [
        "p_purchase_given_cart = 0.4\n",
        "p_cart = 0.3\n",
        "\n",
        "p_purchase = conditional_probability(p_purchase_given_cart, p_cart, 1)\n",
        "print(f\"Probability of purchase: {p_purchase}\")"
      ],
      "metadata": {
        "colab": {
          "base_uri": "https://localhost:8080/"
        },
        "id": "_RmHLdDy3p1r",
        "outputId": "0e50d77c-f2a0-4a29-9dfd-946454b50c57"
      },
      "execution_count": 12,
      "outputs": [
        {
          "output_type": "stream",
          "name": "stdout",
          "text": [
            "Probability of purchase: 0.12\n"
          ]
        }
      ]
    },
    {
      "cell_type": "markdown",
      "source": [
        "Assessment Task 5: Probability Distributions Visualization"
      ],
      "metadata": {
        "id": "4KJaBN_x4HgH"
      }
    },
    {
      "cell_type": "code",
      "source": [
        "import numpy as np\n",
        "import matplotlib.pyplot as plt\n",
        "from scipy.stats import binom, norm"
      ],
      "metadata": {
        "id": "4oTMr6tl4rTh"
      },
      "execution_count": 13,
      "outputs": []
    },
    {
      "cell_type": "code",
      "source": [
        "n_trials = 1000\n",
        "p_heads = 0.5\n",
        "\n",
        "coin_flips = binom.rvs(n_trials, p_heads, size=1000)\n",
        "\n",
        "plt.figure(figsize=(8, 6))\n",
        "plt.hist(coin_flips, bins=20, edgecolor='black')\n",
        "plt.xlabel('Number of Heads')\n",
        "plt.ylabel('Frequency')\n",
        "plt.title(f'Binomial Distribution: {n_trials} Coin Flips (p_heads={p_heads:.2f})')\n",
        "plt.show()"
      ],
      "metadata": {
        "colab": {
          "base_uri": "https://localhost:8080/",
          "height": 564
        },
        "id": "4D8Ak8Z14sZq",
        "outputId": "7f5e1273-4f95-48c4-f781-8a41a009b874"
      },
      "execution_count": 14,
      "outputs": [
        {
          "output_type": "display_data",
          "data": {
            "text/plain": [
              "<Figure size 800x600 with 1 Axes>"
            ],
            "image/png": "[encoded data removed]"
          },
          "metadata": {}
        }
      ]
    },
    {
      "cell_type": "code",
      "source": [
        "n_trials = 10000"
      ],
      "metadata": {
        "id": "X1dGBas54zmO"
      },
      "execution_count": 15,
      "outputs": []
    },
    {
      "cell_type": "code",
      "source": [
        "p_heads = 0.2"
      ],
      "metadata": {
        "id": "UzakkDVK41o5"
      },
      "execution_count": 16,
      "outputs": []
    },
    {
      "cell_type": "code",
      "source": [
        "x = np.linspace(-3, 3, 100)\n",
        "\n",
        "mean = 0\n",
        "std_dev = 1\n",
        "\n",
        "pdf = norm.pdf(x, loc=mean, scale=std_dev)\n",
        "\n",
        "plt.figure(figsize=(8, 6))\n",
        "plt.plot(x, pdf)\n",
        "plt.xlabel('x')\n",
        "plt.ylabel('Probability Density')\n",
        "plt.title('Normal Distribution')\n",
        "plt.show()"
      ],
      "metadata": {
        "colab": {
          "base_uri": "https://localhost:8080/",
          "height": 564
        },
        "id": "fpYJSyiH43Nf",
        "outputId": "a65d6f4e-884b-47f9-db1d-8acd7c749edc"
      },
      "execution_count": 18,
      "outputs": [
        {
          "output_type": "display_data",
          "data": {
            "text/plain": [
              "<Figure size 800x600 with 1 Axes>"
            ],
            "image/png": "[encoded data removed]"
          },
          "metadata": {}
        }
      ]
    }
  ]
}