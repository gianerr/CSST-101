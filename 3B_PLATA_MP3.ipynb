{
  "nbformat": 4,
  "nbformat_minor": 0,
  "metadata": {
    "colab": {
      "provenance": [],
      "authorship_tag": "ABX9TyMelhgzAUklwG7hOOXAvsv5",
      "include_colab_link": true
    },
    "kernelspec": {
      "name": "python3",
      "display_name": "Python 3"
    },
    "language_info": {
      "name": "python"
    }
  },
  "cells": [
    {
      "cell_type": "markdown",
      "metadata": {
        "id": "view-in-github",
        "colab_type": "text"
      },
      "source": [
        "<a href=\"https://colab.research.google.com/github/gianerr/CSST-101/blob/main/3B_PLATA_MP3.ipynb\" target=\"_parent\"><img src=\"https://colab.research.google.com/assets/colab-badge.svg\" alt=\"Open In Colab\"/></a>"
      ]
    },
    {
      "cell_type": "markdown",
      "source": [
        "# Part 1: Implement Basic Probability Calculations"
      ],
      "metadata": {
        "id": "x6Gydur9C8OH"
      }
    },
    {
      "cell_type": "code",
      "source": [
        "def joint_probability(p_a, p_b):\n",
        "    return p_a * p_b\n",
        "\n",
        "def marginal_probability(p_a, p_b, p_b_given_a):\n",
        "    p_not_a = 1 - p_a\n",
        "    p_b_given_not_a = 1 - p_b_given_a\n",
        "    return (p_b_given_a * p_a) + (p_b_given_not_a * p_not_a)\n",
        "\n",
        "def conditional_probability(p_b_given_a, p_a):\n",
        "    return p_b_given_a * p_a\n",
        "\n",
        "def main():\n",
        "    print(\"Probability Calculator\")\n",
        "\n",
        "    p_a = float(input(\"Enter probability of event A: \"))\n",
        "    p_b = float(input(\"Enter probability of event B: \"))\n",
        "    p_b_given_a = float(input(\"Enter probability of B given A: \"))\n",
        "\n",
        "    joint_prob = joint_probability(p_a, p_b)\n",
        "    marg_prob = marginal_probability(p_a, p_b, p_b_given_a)\n",
        "    cond_prob = conditional_probability(p_b_given_a, p_a) / marg_prob\n",
        "\n",
        "    print(f\"\\nJoint Probability: {joint_prob:.2f}\")\n",
        "    print(f\"Marginal Probability: {marg_prob:.2f}\")\n",
        "    print(f\"Conditional Probability: {cond_prob:.2f}\")\n",
        "\n",
        "if __name__ == \"__main__\":\n",
        "    main()"
      ],
      "metadata": {
        "id": "fUIVGSIkIlPv",
        "colab": {
          "base_uri": "https://localhost:8080/"
        },
        "outputId": "c9917301-75f6-448e-e163-1f797bbc062b"
      },
      "execution_count": 7,
      "outputs": [
        {
          "output_type": "stream",
          "name": "stdout",
          "text": [
            "Probability Calculator\n",
            "Enter probability of event A: 1\n",
            "Enter probability of event B: 2\n",
            "Enter probability of B given A: 2\n",
            "\n",
            "Joint Probability: 2.00\n",
            "Marginal Probability: 2.00\n",
            "Conditional Probability: 1.00\n"
          ]
        }
      ]
    },
    {
      "cell_type": "markdown",
      "source": [
        "# Part 2: Bayesian Inference for Real-World Scenarios"
      ],
      "metadata": {
        "id": "tL-0bVFYDZFu"
      }
    },
    {
      "cell_type": "code",
      "source": [
        "def update_disease_probability(prior_disease, likelihood_pos_given_disease, prob_pos_test):\n",
        "    likelihood_pos_given_no_disease = 1 - prob_pos_test + (prior_disease * likelihood_pos_given_disease)\n",
        "    posterior_disease = (prior_disease * likelihood_pos_given_disease) / likelihood_pos_given_no_disease\n",
        "    return posterior_disease\n",
        "\n",
        "def main():\n",
        "    print(\"Medical Diagnosis using Bayesian Inference\")\n",
        "\n",
        "    prior_disease = float(input(\"Enter the prior probability of disease: \"))\n",
        "    likelihood_pos_given_disease = float(input(\"Enter the likelihood of a positive test given disease: \"))\n",
        "    prob_pos_test = float(input(\"Enter the overall probability of a positive test: \"))\n",
        "\n",
        "    posterior_disease = update_disease_probability(prior_disease, likelihood_pos_given_disease, prob_pos_test)\n",
        "\n",
        "    print(f\"\\nPosterior Probability of disease given positive test: {posterior_disease:.2f}\")\n",
        "\n",
        "if __name__ == \"__main__\":\n",
        "    main()"
      ],
      "metadata": {
        "colab": {
          "base_uri": "https://localhost:8080/"
        },
        "id": "LNtuVtkvD9c9",
        "outputId": "4e754785-78d1-459f-96a0-79f0fa8bc873"
      },
      "execution_count": null,
      "outputs": [
        {
          "metadata": {
            "tags": null
          },
          "name": "stdout",
          "output_type": "stream",
          "text": [
            "Medical Diagnosis using Bayesian Inference\n"
          ]
        }
      ]
    },
    {
      "cell_type": "markdown",
      "source": [
        "# Part 3: Simulate Decision-Making Under Uncertainty"
      ],
      "metadata": {
        "id": "7H3Tx6gNFQO4"
      }
    },
    {
      "cell_type": "code",
      "source": [
        "import random\n",
        "\n",
        "def simulate_decision(probability_of_success, reward_for_success, penalty_for_failure, num_trials):\n",
        "    total_return = 0\n",
        "\n",
        "    for _ in range(num_trials):\n",
        "        if random.random() < probability_of_success:\n",
        "            total_return += reward_for_success\n",
        "        else:\n",
        "            total_return += penalty_for_failure\n",
        "\n",
        "    average_return = total_return / num_trials\n",
        "    return average_return\n",
        "\n",
        "def main():\n",
        "    print(\"Investment Decision Simulation\")\n",
        "\n",
        "    probability_of_success = float(input(\"Enter the probability of success (0 to 1): \"))\n",
        "    reward_for_success = float(input(\"Enter the reward for success: \"))\n",
        "    penalty_for_failure = float(input(\"Enter the penalty for failure: \"))\n",
        "\n",
        "    num_trials = int(input(\"Enter the number of trials to simulate: \"))\n",
        "\n",
        "    print(f\"\\nSimulating {num_trials} decisions...\")\n",
        "\n",
        "    average_return = simulate_decision(probability_of_success, reward_for_success, penalty_for_failure, num_trials)\n",
        "\n",
        "    print(f\"\\nAverage Return: {average_return:.2f}\")\n",
        "\n",
        "if __name__ == \"__main__\":\n",
        "    main()"
      ],
      "metadata": {
        "id": "V3TX8vevFRkY",
        "colab": {
          "base_uri": "https://localhost:8080/"
        },
        "outputId": "e5227b0f-8a09-4089-a627-1907914fb23f"
      },
      "execution_count": 8,
      "outputs": [
        {
          "output_type": "stream",
          "name": "stdout",
          "text": [
            "Investment Decision Simulation\n",
            "Enter the probability of success (0 to 1): 1\n",
            "Enter the reward for success: 2\n",
            "Enter the penalty for failure: 2\n",
            "Enter the number of trials to simulate: 21\n",
            "\n",
            "Simulating 21 decisions...\n",
            "\n",
            "Average Return: 2.00\n"
          ]
        }
      ]
    },
    {
      "cell_type": "markdown",
      "source": [
        "# Part 4: Visualize Probability Distributions"
      ],
      "metadata": {
        "id": "3fWpsum2JdQF"
      }
    },
    {
      "cell_type": "code",
      "source": [
        "import numpy as np\n",
        "import matplotlib.pyplot as plt\n",
        "\n",
        "def simulate_binomial(trials, probability_of_heads):\n",
        "    return np.random.binomial(n=1, p=probability_of_heads, size=trials)\n",
        "\n",
        "def simulate_normal(trials, mean, std_dev):\n",
        "    return np.random.normal(loc=mean, scale=std_dev, size=trials)\n",
        "\n",
        "def plot_histogram(data, title, xlabel):\n",
        "    plt.figure(figsize=(10, 6))\n",
        "    plt.hist(data, bins=30, color='blue', alpha=0.7)\n",
        "    plt.title(title)\n",
        "    plt.xlabel(xlabel)\n",
        "    plt.ylabel('Frequency')\n",
        "    plt.grid(axis='y', alpha=0.75)\n",
        "    plt.show()\n",
        "\n",
        "def main():\n",
        "    print(\"Choose a distribution to simulate:\")\n",
        "    print(\"1. Binomial (Coin flips)\")\n",
        "    print(\"2. Normal (Exam scores)\")\n",
        "\n",
        "    choice = input(\"Enter your choice (1 or 2): \")\n",
        "\n",
        "    if choice == '1':\n",
        "        trials = int(input(\"Enter the number of trials: \"))\n",
        "        probability_of_heads = float(input(\"Enter the probability of heads (0 to 1): \"))\n",
        "\n",
        "        print(\"\\nGenerating histogram...\")\n",
        "        data = simulate_binomial(trials, probability_of_heads)\n",
        "        plot_histogram(data, \"Binomial Distribution - Coin Flips\", \"Heads Count\")\n",
        "\n",
        "    elif choice == '2':\n",
        "        trials = int(input(\"Enter the number of trials: \"))\n",
        "        mean = float(input(\"Enter the mean score: \"))\n",
        "        std_dev = float(input(\"Enter the standard deviation: \"))\n",
        "\n",
        "        print(\"\\nGenerating histogram...\")\n",
        "        data = simulate_normal(trials, mean, std_dev)\n",
        "        plot_histogram(data, \"Normal Distribution - Exam Scores\", \"Scores\")\n",
        "\n",
        "    else:\n",
        "        print(\"Invalid choice. Please select 1 or 2.\")\n",
        "\n",
        "if __name__ == \"__main__\":\n",
        "    main()"
      ],
      "metadata": {
        "id": "VCFjqS0oKimA",
        "colab": {
          "base_uri": "https://localhost:8080/",
          "height": 689
        },
        "outputId": "cd77f9bf-0969-45ba-f40d-2384fd328a69"
      },
      "execution_count": 9,
      "outputs": [
        {
          "output_type": "stream",
          "name": "stdout",
          "text": [
            "Choose a distribution to simulate:\n",
            "1. Binomial (Coin flips)\n",
            "2. Normal (Exam scores)\n",
            "Enter your choice (1 or 2): 1\n",
            "Enter the number of trials: 2\n",
            "Enter the probability of heads (0 to 1): 1\n",
            "\n",
            "Generating histogram...\n"
          ]
        },
        {
          "output_type": "display_data",
          "data": {
            "text/plain": [
              "<Figure size 1000x600 with 1 Axes>"
            ],
            "image/png": "[encoded data removed]"
          },
          "metadata": {}
        }
      ]
    },
    {
      "cell_type": "markdown",
      "source": [
        "# Part 5: Real-World Scenario Prediction"
      ],
      "metadata": {
        "id": "jqxajLDPMpHu"
      }
    },
    {
      "cell_type": "code",
      "source": [
        "def calculate_probability_of_rain(humidity, cloud_cover):\n",
        "    base_probability_of_rain = 0.2\n",
        "\n",
        "    humidity_factor = 0.5\n",
        "    cloud_cover_factor = 0.5\n",
        "\n",
        "    probability_of_rain = base_probability_of_rain + (humidity * humidity_factor) + (cloud_cover * cloud_cover_factor)\n",
        "\n",
        "    return min(max(probability_of_rain, 0), 1)\n",
        "\n",
        "def main():\n",
        "    print(\"Rain Probability Predictor\")\n",
        "\n",
        "    humidity = float(input(\"Enter the humidity level (0 to 1): \"))\n",
        "    cloud_cover = float(input(\"Enter the cloud cover level (0 to 1): \"))\n",
        "\n",
        "    if not (0 <= humidity <= 1) or not (0 <= cloud_cover <= 1):\n",
        "        print(\"Please enter values between 0 and 1.\")\n",
        "        return\n",
        "\n",
        "    probability_of_rain = calculate_probability_of_rain(humidity, cloud_cover)\n",
        "\n",
        "    print(f\"\\nProbability of rain: {probability_of_rain:.2f}\")\n",
        "\n",
        "    if probability_of_rain < 0.3:\n",
        "        print(\"It's unlikely to rain.\")\n",
        "    elif probability_of_rain < 0.7:\n",
        "        print(\"There's a moderate chance of rain.\")\n",
        "    else:\n",
        "        print(\"It's likely to rain.\")\n",
        "\n",
        "if __name__ == \"__main__\":\n",
        "    main()"
      ],
      "metadata": {
        "colab": {
          "base_uri": "https://localhost:8080/"
        },
        "id": "xFxVxZqyMqRs",
        "outputId": "9c76dfb2-c1e5-43fe-a0fe-8d124d9b1fa6"
      },
      "execution_count": 6,
      "outputs": [
        {
          "output_type": "stream",
          "name": "stdout",
          "text": [
            "Rain Probability Predictor\n",
            "Enter the humidity level (0 to 1): 1\n",
            "Enter the cloud cover level (0 to 1): 1\n",
            "\n",
            "Probability of rain: 1.00\n",
            "It's likely to rain.\n"
          ]
        }
      ]
    }
  ]
}