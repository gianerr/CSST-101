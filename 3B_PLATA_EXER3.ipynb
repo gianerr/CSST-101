{
  "nbformat": 4,
  "nbformat_minor": 0,
  "metadata": {
    "colab": {
      "provenance": [],
      "authorship_tag": "ABX9TyNymM8IxlR4+t9O57GgCO1f",
      "include_colab_link": true
    },
    "kernelspec": {
      "name": "python3",
      "display_name": "Python 3"
    },
    "language_info": {
      "name": "python"
    }
  },
  "cells": [
    {
      "cell_type": "markdown",
      "metadata": {
        "id": "view-in-github",
        "colab_type": "text"
      },
      "source": [
        "<a href=\"https://colab.research.google.com/github/gianerr/CSST-101/blob/main/3B_PLATA_EXER3.ipynb\" target=\"_parent\"><img src=\"https://colab.research.google.com/assets/colab-badge.svg\" alt=\"Open In Colab\"/></a>"
      ]
    },
    {
      "cell_type": "markdown",
      "source": [
        "# Part 1: Defining the Problem and System Design"
      ],
      "metadata": {
        "id": "f5yIPyQCBTx3"
      }
    },
    {
      "cell_type": "code",
      "execution_count": 1,
      "metadata": {
        "colab": {
          "base_uri": "https://localhost:8080/"
        },
        "id": "IB1H2e09-Oe6",
        "outputId": "e1e40ad5-fcd8-4396-954f-61a3253ca908"
      },
      "outputs": [
        {
          "output_type": "stream",
          "name": "stdout",
          "text": [
            "Disease: Diabetes\n",
            "Contributing Factors:\n",
            "- Symptoms:\n",
            "  - Increased thirst\n",
            "  - Frequent urination\n",
            "  - Extreme fatigue\n",
            "  - Blurred vision\n",
            "  - Slow healing sores\n",
            "- Test Results:\n",
            "  - Fasting blood sugar test\n",
            "  - Oral glucose tolerance test\n",
            "  - A1C test\n"
          ]
        }
      ],
      "source": [
        "disease = \"Diabetes\"\n",
        "\n",
        "contributing_factors = {\n",
        "    \"Symptoms\": [\n",
        "        \"Increased thirst\",\n",
        "        \"Frequent urination\",\n",
        "        \"Extreme fatigue\",\n",
        "        \"Blurred vision\",\n",
        "        \"Slow healing sores\"\n",
        "    ],\n",
        "    \"Test Results\": [\n",
        "        \"Fasting blood sugar test\",\n",
        "        \"Oral glucose tolerance test\",\n",
        "        \"A1C test\"\n",
        "    ]\n",
        "}\n",
        "\n",
        "def disease_info():\n",
        "    print(f\"Disease: {disease}\")\n",
        "    print(\"Contributing Factors:\")\n",
        "    for factor_type, factors in contributing_factors.items():\n",
        "        print(f\"- {factor_type}:\")\n",
        "        for factor in factors:\n",
        "            print(f\"  - {factor}\")\n",
        "disease_info()"
      ]
    },
    {
      "cell_type": "markdown",
      "source": [
        "# Part 2: Basic Probability Calculations"
      ],
      "metadata": {
        "id": "FUVkgPgKG93t"
      }
    },
    {
      "cell_type": "code",
      "source": [
        "P_Disease = 0.02\n",
        "P_Positive_given_Disease = 0.95\n",
        "P_Positive_given_NoDisease = 0.05\n",
        "P_Positive = 0.06\n",
        "\n",
        "def bayes_theorem(p_disease, p_positive_given_disease, p_positive):\n",
        "    return (p_positive_given_disease * p_disease) / p_positive\n",
        "\n",
        "posterior_probability = bayes_theorem(P_Disease, P_Positive_given_Disease, P_Positive)\n",
        "print(f\"The posterior probability that the patient has the disease given a positive test result is: {posterior_probability:.4f}\")"
      ],
      "metadata": {
        "id": "feNoQVZgHDkP",
        "colab": {
          "base_uri": "https://localhost:8080/"
        },
        "outputId": "92d626ce-7047-4ca3-d7ac-695e95e66b84"
      },
      "execution_count": null,
      "outputs": [
        {
          "output_type": "stream",
          "name": "stdout",
          "text": [
            "The posterior probability that the patient has the disease given a positive test result is: 0.3167\n"
          ]
        }
      ]
    },
    {
      "cell_type": "markdown",
      "source": [
        "# Part 3: Decision-Making Simulation"
      ],
      "metadata": {
        "id": "7yw2Ow-Yl36b"
      }
    },
    {
      "cell_type": "code",
      "source": [
        "P_Success = 0.70\n",
        "Benefit = 100\n",
        "P_Failure = 0.30\n",
        "Loss = -50\n",
        "\n",
        "expected_health_improvement = (P_Success * Benefit) + (P_Failure * Loss)\n",
        "\n",
        "print(f\"The expected health improvement for the patient is: {expected_health_improvement:.2f} points\")"
      ],
      "metadata": {
        "id": "UwlhW4TImDpA"
      },
      "execution_count": null,
      "outputs": []
    },
    {
      "cell_type": "markdown",
      "source": [
        "# Part 4: Visualize a Probabilty Distribution"
      ],
      "metadata": {
        "id": "C5nxixuwmfP0"
      }
    },
    {
      "cell_type": "code",
      "source": [
        "import numpy as np\n",
        "import matplotlib.pyplot as plt\n",
        "from scipy.stats import binom\n",
        "\n",
        "n = 5\n",
        "p = 0.5\n",
        "\n",
        "x = np.arange(0, n + 1)\n",
        "\n",
        "probabilities = binom.pmf(x, n, p)\n",
        "\n",
        "plt.bar(x, probabilities, color='black', alpha=0.7)\n",
        "plt.xticks(x)\n",
        "plt.xlabel('Number of Heads')\n",
        "plt.ylabel('Probability')\n",
        "plt.title('Binomial Distribution: Coin Flips (n=5, p=0.5)')\n",
        "plt.grid(axis='y', linestyle='--', alpha=0.7)\n",
        "plt.ylim(0, max(probabilities) + 0.05)\n",
        "\n",
        "plt.show()"
      ],
      "metadata": {
        "colab": {
          "base_uri": "https://localhost:8080/",
          "height": 472
        },
        "id": "5Eehi0bKmmmS",
        "outputId": "d362e3d0-e3cd-45fa-e78a-c6710d25624b"
      },
      "execution_count": null,
      "outputs": [
        {
          "output_type": "display_data",
          "data": {
            "text/plain": [
              "<Figure size 640x480 with 1 Axes>"
            ],
            "image/png": "[encoded data removed]"
          },
          "metadata": {}
        }
      ]
    },
    {
      "cell_type": "markdown",
      "source": [
        "# Reflection"
      ],
      "metadata": {
        "id": "niRedWkOnOjb"
      }
    },
    {
      "cell_type": "markdown",
      "source": [
        "Understanding probability theory is crucial in medical diagnosis systems because it helps in quantifying uncertainty and making informed decisions based on incomplete or variable data. By using techniques like Bayesian networks, healthcare professionals can estimate the likelihood of diseases given symptoms, risk factors, and diagnostic tests. This helps in balancing probabilities and making more accurate diagnoses, which is vital when information is uncertain or evolving, much like a student reasoning through complex scenarios with limited information."
      ],
      "metadata": {
        "id": "RNE5Om2pnVHq"
      }
    }
  ]
}